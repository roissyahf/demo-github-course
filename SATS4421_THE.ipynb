{
  "nbformat": 4,
  "nbformat_minor": 0,
  "metadata": {
    "colab": {
      "provenance": [],
      "mount_file_id": "1pSIHUvv8Ff3LQn9trKJ0SV8wzNyMKnp4",
      "authorship_tag": "ABX9TyMKIyekxq2hUH/ySPDBfZCh",
      "include_colab_link": true
    },
    "kernelspec": {
      "name": "python3",
      "display_name": "Python 3"
    },
    "language_info": {
      "name": "python"
    }
  },
  "cells": [
    {
      "cell_type": "markdown",
      "metadata": {
        "id": "view-in-github",
        "colab_type": "text"
      },
      "source": [
        "<a href=\"https://colab.research.google.com/github/roissyahf/demo-github-course/blob/main/SATS4421_THE.ipynb\" target=\"_parent\"><img src=\"https://colab.research.google.com/assets/colab-badge.svg\" alt=\"Open In Colab\"/></a>"
      ]
    },
    {
      "cell_type": "markdown",
      "source": [
        "# Matrix multiplication"
      ],
      "metadata": {
        "id": "k5V4vL-icucE"
      }
    },
    {
      "cell_type": "code",
      "source": [
        "#create matrix 2x15\n",
        "m_a = [[1, -3, 4, -1, 2, -3, -1, 5, 2, 0, -4, -1, 2, -1, -2],\n",
        "       [-1, 2, -2, 0, 1, 0, 2, -3, 0, 1, 0, 2, 3, -3, -2]\n",
        "]\n",
        "m_a"
      ],
      "metadata": {
        "colab": {
          "base_uri": "https://localhost:8080/"
        },
        "id": "WrYjtZ8kTZ0J",
        "outputId": "70315cd7-aa7f-40d4-910e-54022107348a"
      },
      "execution_count": null,
      "outputs": [
        {
          "output_type": "execute_result",
          "data": {
            "text/plain": [
              "[[1, -3, 4, -1, 2, -3, -1, 5, 2, 0, -4, -1, 2, -1, -2],\n",
              " [-1, 2, -2, 0, 1, 0, 2, -3, 0, 1, 0, 2, 3, -3, -2]]"
            ]
          },
          "metadata": {},
          "execution_count": 2
        }
      ]
    },
    {
      "cell_type": "code",
      "source": [
        "#create matrix 15x2 (tranpose of m_a)\n",
        "result = [[0,0],\n",
        "    [0,0],\n",
        "    [0,0],\n",
        "    [0,0],\n",
        "    [0,0],\n",
        "    [0,0],\n",
        "    [0,0],\n",
        "    [0,0],\n",
        "    [0,0],\n",
        "    [0,0],\n",
        "    [0,0],\n",
        "    [0,0],\n",
        "    [0,0],\n",
        "    [0,0],\n",
        "    [0,0],\n",
        "]\n",
        "\n",
        "#iterate through rows\n",
        "for i in range(len(m_a)):\n",
        "  #iterate through columns\n",
        "  for j in range(len(m_a[0])):\n",
        "    result[j][i] = m_a[i][j]\n",
        "\n",
        "#print result\n",
        "for r in result:\n",
        "  print(r)\n"
      ],
      "metadata": {
        "colab": {
          "base_uri": "https://localhost:8080/"
        },
        "id": "I1hXgNY4Tdnn",
        "outputId": "37d8cdc9-db21-4281-c812-bde63163a69b"
      },
      "execution_count": null,
      "outputs": [
        {
          "output_type": "stream",
          "name": "stdout",
          "text": [
            "[1, -1]\n",
            "[-3, 2]\n",
            "[4, -2]\n",
            "[-1, 0]\n",
            "[2, 1]\n",
            "[-3, 0]\n",
            "[-1, 2]\n",
            "[5, -3]\n",
            "[2, 0]\n",
            "[0, 1]\n",
            "[-4, 0]\n",
            "[-1, 2]\n",
            "[2, 3]\n",
            "[-1, -3]\n",
            "[-2, -2]\n"
          ]
        }
      ]
    },
    {
      "cell_type": "code",
      "source": [
        "#store transpose result in m_t\n",
        "m_t = [[1, -1],\n",
        "       [-3, 2],\n",
        "       [4, -2],\n",
        "       [-1, 0],\n",
        "       [2, 1],\n",
        "       [-3, 0],\n",
        "       [-1, 2],\n",
        "       [5, -3],\n",
        "       [2, 0],\n",
        "       [0, 1],\n",
        "       [-4, 0],\n",
        "       [-1, 2],\n",
        "       [2, 3],\n",
        "       [-1, -3],\n",
        "       [-2, -2],\n",
        "]\n",
        "m_t"
      ],
      "metadata": {
        "colab": {
          "base_uri": "https://localhost:8080/"
        },
        "id": "vYTUftovWaUi",
        "outputId": "19d410c3-3190-47c9-f0e4-639f9022aaa4"
      },
      "execution_count": null,
      "outputs": [
        {
          "output_type": "execute_result",
          "data": {
            "text/plain": [
              "[[1, -1],\n",
              " [-3, 2],\n",
              " [4, -2],\n",
              " [-1, 0],\n",
              " [2, 1],\n",
              " [-3, 0],\n",
              " [-1, 2],\n",
              " [5, -3],\n",
              " [2, 0],\n",
              " [0, 1],\n",
              " [-4, 0],\n",
              " [-1, 2],\n",
              " [2, 3],\n",
              " [-1, -3],\n",
              " [-2, -2]]"
            ]
          },
          "metadata": {},
          "execution_count": 11
        }
      ]
    },
    {
      "cell_type": "code",
      "source": [
        "#multiply m_a (2x15) with m_t (15x2)\n",
        "#will result in matrix of (2x2)\n",
        "\n",
        "result = [[0,0],\n",
        "          [0,0]]\n",
        "\n",
        "#iterate through rows of m_a\n",
        "for i in range(len(m_a)):\n",
        "  #iterate through columns of m_t\n",
        "  for j in range(len(m_t[0])):\n",
        "    #iterate through rows of m_t\n",
        "    for k in range(len(m_t)):\n",
        "      result[i][j] += m_a[i][k] * m_t[k][j]\n",
        "\n",
        "#print result\n",
        "for r in result:\n",
        "  print(r)"
      ],
      "metadata": {
        "colab": {
          "base_uri": "https://localhost:8080/"
        },
        "id": "1PT7ltQoTmoM",
        "outputId": "5796e474-2f97-4740-d7f0-8e1c26315681"
      },
      "execution_count": null,
      "outputs": [
        {
          "output_type": "stream",
          "name": "stdout",
          "text": [
            "[96, -19]\n",
            "[-19, 50]\n"
          ]
        }
      ]
    }
  ]
}